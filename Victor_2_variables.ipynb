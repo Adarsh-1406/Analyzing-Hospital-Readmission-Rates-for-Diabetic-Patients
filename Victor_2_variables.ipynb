{
  "nbformat": 4,
  "nbformat_minor": 0,
  "metadata": {
    "colab": {
      "provenance": [],
      "collapsed_sections": [
        "nUmzYVwFUjkr",
        "fodxnXVJTBVl",
        "x6jS_6cYXGkE",
        "U7ksJUvZX2ZH",
        "0CaFKKPgYtB7"
      ]
    },
    "kernelspec": {
      "name": "python3",
      "display_name": "Python 3"
    },
    "language_info": {
      "name": "python"
    }
  },
  "cells": [
    {
      "cell_type": "markdown",
      "source": [
        "#Initial descrition of the following variables:"
      ],
      "metadata": {
        "id": "n185YZ55SJrs"
      }
    },
    {
      "cell_type": "markdown",
      "source": [
        " time_in_hospital, payer_code, medical_specialty, num_lab_procedures, num_procedures, num_medications, number_outpatient, number_emergency, number_inpatient"
      ],
      "metadata": {
        "id": "ap9oHU4JSmzS"
      }
    },
    {
      "cell_type": "code",
      "execution_count": 2,
      "metadata": {
        "id": "tm3tNKJkmCuG"
      },
      "outputs": [],
      "source": [
        "import pandas as pd\n",
        "import numpy as np"
      ]
    },
    {
      "cell_type": "code",
      "source": [
        "df = pd.read_csv('readmission.csv')"
      ],
      "metadata": {
        "id": "M5vOBlsAmGUi"
      },
      "execution_count": 3,
      "outputs": []
    },
    {
      "cell_type": "markdown",
      "source": [
        "##**time_in_hospital**: Number of days between admission and discharge (int64)\n",
        "\n",
        "\n",
        "---\n",
        "\n",
        "*   min = 1; max = 14\n",
        "*   No missing values\n",
        "*   Ready to use!"
      ],
      "metadata": {
        "id": "nUmzYVwFUjkr"
      }
    },
    {
      "cell_type": "code",
      "source": [
        "df['time_in_hospital'].info()"
      ],
      "metadata": {
        "colab": {
          "base_uri": "https://localhost:8080/"
        },
        "id": "c0Lowl8RVE7U",
        "outputId": "eb33e279-efa5-493d-a9b1-3786dac389ce"
      },
      "execution_count": 4,
      "outputs": [
        {
          "output_type": "stream",
          "name": "stdout",
          "text": [
            "<class 'pandas.core.series.Series'>\n",
            "RangeIndex: 94564 entries, 0 to 94563\n",
            "Series name: time_in_hospital\n",
            "Non-Null Count  Dtype\n",
            "--------------  -----\n",
            "94564 non-null  int64\n",
            "dtypes: int64(1)\n",
            "memory usage: 738.9 KB\n"
          ]
        }
      ]
    },
    {
      "cell_type": "code",
      "source": [
        "df['time_in_hospital'].unique()"
      ],
      "metadata": {
        "colab": {
          "base_uri": "https://localhost:8080/"
        },
        "id": "nRgQ9epZS85w",
        "outputId": "251dd4bb-b1f3-4028-ba44-2c12b6ac67c1"
      },
      "execution_count": 5,
      "outputs": [
        {
          "output_type": "execute_result",
          "data": {
            "text/plain": [
              "array([ 1,  3,  2,  4,  5, 13, 12,  9,  7, 10,  6, 11,  8, 14])"
            ]
          },
          "metadata": {},
          "execution_count": 5
        }
      ]
    },
    {
      "cell_type": "code",
      "source": [
        "df['time_in_hospital'].min(), df['time_in_hospital'].max(), df['time_in_hospital'].isnull().sum()"
      ],
      "metadata": {
        "colab": {
          "base_uri": "https://localhost:8080/"
        },
        "id": "kfXVEHJCS9mN",
        "outputId": "f0430d11-b49b-48b2-bf1f-b768c9b25f1d"
      },
      "execution_count": 6,
      "outputs": [
        {
          "output_type": "execute_result",
          "data": {
            "text/plain": [
              "(1, 14, 0)"
            ]
          },
          "metadata": {},
          "execution_count": 6
        }
      ]
    },
    {
      "cell_type": "markdown",
      "source": [
        "##**payer_code**: Unique identifier (key) that indicates who is paying (object). Includes self-pay\n",
        "\n",
        "\n",
        "---\n",
        "\n",
        "\n",
        "*   Missing values are noted as '?'\n",
        "*   There are 40,256 missing values. (40%)\n",
        "*   With so many missing values we might want to drop this column.\n",
        "\n",
        "\n",
        "\n",
        "\n",
        "\n",
        "\n",
        "\n",
        "\n",
        "\n"
      ],
      "metadata": {
        "id": "fodxnXVJTBVl"
      }
    },
    {
      "cell_type": "code",
      "source": [
        "df['payer_code'].info()"
      ],
      "metadata": {
        "colab": {
          "base_uri": "https://localhost:8080/"
        },
        "id": "toDRZ4oNVIdB",
        "outputId": "6d0b14d8-ce54-42cf-a082-b4e233e92ab5"
      },
      "execution_count": 7,
      "outputs": [
        {
          "output_type": "stream",
          "name": "stdout",
          "text": [
            "<class 'pandas.core.series.Series'>\n",
            "RangeIndex: 94564 entries, 0 to 94563\n",
            "Series name: payer_code\n",
            "Non-Null Count  Dtype \n",
            "--------------  ----- \n",
            "94564 non-null  object\n",
            "dtypes: object(1)\n",
            "memory usage: 738.9+ KB\n"
          ]
        }
      ]
    },
    {
      "cell_type": "code",
      "source": [
        "df['payer_code'].unique()"
      ],
      "metadata": {
        "colab": {
          "base_uri": "https://localhost:8080/"
        },
        "id": "TPEQLlvjUqE-",
        "outputId": "532db6ec-5fe8-49f4-d4d6-14e9e13057ad"
      },
      "execution_count": 8,
      "outputs": [
        {
          "output_type": "execute_result",
          "data": {
            "text/plain": [
              "array(['?', 'MC', 'MD', 'HM', 'UN', 'BC', 'SP', 'CP', 'SI', 'DM', 'CM',\n",
              "       'CH', 'PO', 'WC', 'OT', 'OG', 'MP', 'FR'], dtype=object)"
            ]
          },
          "metadata": {},
          "execution_count": 8
        }
      ]
    },
    {
      "cell_type": "code",
      "source": [
        "#Missing values:\n",
        "len(df['payer_code'][df['payer_code'] == '?']), len(df['payer_code'][df['payer_code'] == '?'])/len(df)"
      ],
      "metadata": {
        "colab": {
          "base_uri": "https://localhost:8080/"
        },
        "id": "kzc8pjOPU3xb",
        "outputId": "a53f55da-1841-4167-d383-9b146cc73a20"
      },
      "execution_count": 9,
      "outputs": [
        {
          "output_type": "execute_result",
          "data": {
            "text/plain": [
              "(39263, 0.4152002876358868)"
            ]
          },
          "metadata": {},
          "execution_count": 9
        }
      ]
    },
    {
      "cell_type": "markdown",
      "source": [
        "##medical_specialty: specialty of the admitting doc (object)\n",
        "\n",
        "\n",
        "---\n",
        "\n",
        "*   Missing values are noted as '?'\n",
        "*   There are 40,256 missing values. (49%)\n",
        "*   With so many missing values we might want to drop this column.\n"
      ],
      "metadata": {
        "id": "x6jS_6cYXGkE"
      }
    },
    {
      "cell_type": "code",
      "source": [
        "df['medical_specialty'].unique()"
      ],
      "metadata": {
        "colab": {
          "base_uri": "https://localhost:8080/"
        },
        "id": "DJ-ppIl_XVR4",
        "outputId": "764034e1-2105-4399-a9ae-14db670d81fd"
      },
      "execution_count": 10,
      "outputs": [
        {
          "output_type": "execute_result",
          "data": {
            "text/plain": [
              "array(['Pediatrics-Endocrinology', '?', 'InternalMedicine',\n",
              "       'Family/GeneralPractice', 'Cardiology', 'Surgery-General',\n",
              "       'Orthopedics', 'Gastroenterology',\n",
              "       'Surgery-Cardiovascular/Thoracic', 'Nephrology',\n",
              "       'Orthopedics-Reconstructive', 'Psychiatry', 'Emergency/Trauma',\n",
              "       'Pulmonology', 'Surgery-Neuro',\n",
              "       'Obsterics&Gynecology-GynecologicOnco', 'ObstetricsandGynecology',\n",
              "       'Pediatrics', 'Hematology/Oncology', 'Otolaryngology',\n",
              "       'Surgery-Colon&Rectal', 'Pediatrics-CriticalCare', 'Endocrinology',\n",
              "       'Urology', 'Psychiatry-Child/Adolescent', 'Pediatrics-Pulmonology',\n",
              "       'Neurology', 'Anesthesiology-Pediatric', 'Radiology',\n",
              "       'Pediatrics-Hematology-Oncology', 'Psychology', 'Podiatry',\n",
              "       'Gynecology', 'Oncology', 'Pediatrics-Neurology',\n",
              "       'Surgery-Plastic', 'Surgery-Thoracic',\n",
              "       'Surgery-PlasticwithinHeadandNeck', 'Ophthalmology',\n",
              "       'Surgery-Pediatric', 'Pediatrics-EmergencyMedicine',\n",
              "       'PhysicalMedicineandRehabilitation', 'InfectiousDiseases',\n",
              "       'Anesthesiology', 'Rheumatology', 'AllergyandImmunology',\n",
              "       'Surgery-Maxillofacial', 'Pediatrics-InfectiousDiseases',\n",
              "       'Pediatrics-AllergyandImmunology', 'Dentistry', 'Surgeon',\n",
              "       'Surgery-Vascular', 'Osteopath', 'Psychiatry-Addictive',\n",
              "       'Surgery-Cardiovascular', 'PhysicianNotFound', 'Hematology',\n",
              "       'Proctology', 'Obstetrics', 'SurgicalSpecialty', 'Radiologist',\n",
              "       'Pathology', 'Dermatology', 'SportsMedicine', 'Speech',\n",
              "       'Hospitalist', 'OutreachServices', 'Cardiology-Pediatric',\n",
              "       'Perinatology', 'Neurophysiology', 'Endocrinology-Metabolism',\n",
              "       'DCPTEAM', 'E'], dtype=object)"
            ]
          },
          "metadata": {},
          "execution_count": 10
        }
      ]
    },
    {
      "cell_type": "code",
      "source": [
        "#Missing values:\n",
        "len(df['medical_specialty'][df['medical_specialty'] == '?']), len(df['medical_specialty'][df['medical_specialty'] == '?'])/len(df)"
      ],
      "metadata": {
        "colab": {
          "base_uri": "https://localhost:8080/"
        },
        "id": "mEo8qW5FXctF",
        "outputId": "568b3189-c268-4c36-e7cf-9b45a61c20ef"
      },
      "execution_count": 11,
      "outputs": [
        {
          "output_type": "execute_result",
          "data": {
            "text/plain": [
              "(45037, 0.4762594644896578)"
            ]
          },
          "metadata": {},
          "execution_count": 11
        }
      ]
    },
    {
      "cell_type": "markdown",
      "source": [
        "##num_lab_procedures: Number of lab tests performed during stay (int64)\n",
        "\n",
        "\n",
        "---\n",
        "\n",
        "\n",
        "*   min = 1; max = 132\n",
        "*   No missing values\n",
        "*   Ready to use!\n",
        "\n",
        "\n"
      ],
      "metadata": {
        "id": "U7ksJUvZX2ZH"
      }
    },
    {
      "cell_type": "code",
      "source": [
        "df['num_lab_procedures'].info()"
      ],
      "metadata": {
        "colab": {
          "base_uri": "https://localhost:8080/"
        },
        "id": "VaXJ9sFAYGcc",
        "outputId": "9e0904ef-128d-45f0-e069-8356940c7e28"
      },
      "execution_count": 12,
      "outputs": [
        {
          "output_type": "stream",
          "name": "stdout",
          "text": [
            "<class 'pandas.core.series.Series'>\n",
            "RangeIndex: 94564 entries, 0 to 94563\n",
            "Series name: num_lab_procedures\n",
            "Non-Null Count  Dtype  \n",
            "--------------  -----  \n",
            "94563 non-null  float64\n",
            "dtypes: float64(1)\n",
            "memory usage: 738.9 KB\n"
          ]
        }
      ]
    },
    {
      "cell_type": "code",
      "source": [
        "df['num_lab_procedures'].unique()"
      ],
      "metadata": {
        "colab": {
          "base_uri": "https://localhost:8080/"
        },
        "id": "HBj6z-mHYLp1",
        "outputId": "2a5604e8-ce4f-4ff8-8c48-13b580aa4193"
      },
      "execution_count": 13,
      "outputs": [
        {
          "output_type": "execute_result",
          "data": {
            "text/plain": [
              "array([ 41.,  59.,  11.,  44.,  51.,  31.,  70.,  73.,  68.,  33.,  47.,\n",
              "        62.,  60.,  55.,  49.,  75.,  45.,  29.,  35.,  42.,  66.,  36.,\n",
              "        19.,  64.,  25.,  53.,  52.,  87.,  27.,  37.,  46.,  28.,  48.,\n",
              "        72.,  10.,   2.,  65.,  67.,  40.,  54.,  58.,  57.,  43.,  32.,\n",
              "        83.,  34.,  39.,  69.,  38.,  56.,  22.,  96.,  78.,  61.,  88.,\n",
              "        50.,   1.,  18.,  82.,   9.,  63.,  24.,  71.,  77.,  81.,  76.,\n",
              "        90.,  93.,   3., 103.,  13.,  80.,  85.,  16.,  15.,  12.,  30.,\n",
              "        23.,  17.,  21.,  79.,  26.,   5.,  95.,  97.,  84.,  14.,  74.,\n",
              "       105.,  86.,  98.,  20.,   6.,  94.,   8., 102., 100.,   7.,  89.,\n",
              "        91.,  92.,   4., 101.,  99., 114., 113., 111., 129., 107., 108.,\n",
              "       106., 104., 109., 120., 132., 121., 126.,  nan])"
            ]
          },
          "metadata": {},
          "execution_count": 13
        }
      ]
    },
    {
      "cell_type": "code",
      "source": [
        "df['num_lab_procedures'].min(), df['num_lab_procedures'].max(), df['num_lab_procedures'].isnull().sum()"
      ],
      "metadata": {
        "colab": {
          "base_uri": "https://localhost:8080/"
        },
        "id": "P5KGFiWNYXXw",
        "outputId": "0f5e0c35-0a4d-408b-8d1e-a2cd6aae90ce"
      },
      "execution_count": 14,
      "outputs": [
        {
          "output_type": "execute_result",
          "data": {
            "text/plain": [
              "(1.0, 132.0, 1)"
            ]
          },
          "metadata": {},
          "execution_count": 14
        }
      ]
    },
    {
      "cell_type": "markdown",
      "source": [
        "##num_procedures: Number of procedures (besides lab tests) performed during the stay (int64)\n",
        "\n",
        "\n",
        "---\n",
        "\n",
        "\n",
        "\n",
        "*   min = 0; max = 6\n",
        "*   No missing values\n",
        "*   Ready to use!\n",
        "\n"
      ],
      "metadata": {
        "id": "0CaFKKPgYtB7"
      }
    },
    {
      "cell_type": "code",
      "source": [
        "df['num_procedures'].unique()"
      ],
      "metadata": {
        "colab": {
          "base_uri": "https://localhost:8080/"
        },
        "id": "W2i2txx8ZAad",
        "outputId": "2d13afa0-0054-4ced-bb0a-ead5ad29b9f8"
      },
      "execution_count": 15,
      "outputs": [
        {
          "output_type": "execute_result",
          "data": {
            "text/plain": [
              "array([ 0.,  5.,  1.,  6.,  2.,  3.,  4., nan])"
            ]
          },
          "metadata": {},
          "execution_count": 15
        }
      ]
    },
    {
      "cell_type": "code",
      "source": [
        "df['num_procedures'].min(), df['num_procedures'].max(), df['num_procedures'].isnull().sum()"
      ],
      "metadata": {
        "colab": {
          "base_uri": "https://localhost:8080/"
        },
        "id": "Y1rWbBqoZGAw",
        "outputId": "da087acf-5e21-4cca-aeae-dd880e59f9e5"
      },
      "execution_count": 16,
      "outputs": [
        {
          "output_type": "execute_result",
          "data": {
            "text/plain": [
              "(0.0, 6.0, 1)"
            ]
          },
          "metadata": {},
          "execution_count": 16
        }
      ]
    },
    {
      "cell_type": "markdown",
      "source": [
        "##num_medications: Number of distinct generic meds given during stay (int64)\n",
        "\n",
        "\n",
        "---\n",
        "\n",
        "\n",
        "\n",
        "*   min = 1; max = 81\n",
        "*   No missing values\n",
        "*   Ready to used!\n",
        "\n"
      ],
      "metadata": {
        "id": "fQET64qMwC-A"
      }
    },
    {
      "cell_type": "code",
      "source": [
        "df['num_medications'].unique()"
      ],
      "metadata": {
        "colab": {
          "base_uri": "https://localhost:8080/"
        },
        "id": "mpH02bvbwzCS",
        "outputId": "4d44543b-838e-41f6-d68b-0455bcf0e2e0"
      },
      "execution_count": 17,
      "outputs": [
        {
          "output_type": "execute_result",
          "data": {
            "text/plain": [
              "array([ 1., 18., 13., 16.,  8., 21., 12., 28., 17., 11., 15., 31.,  2.,\n",
              "       23., 19.,  7., 20., 14., 10., 22.,  9., 27., 25.,  4., 32.,  6.,\n",
              "       30., 26., 24., 33.,  5., 39.,  3., 29., 61., 40., 46., 41., 36.,\n",
              "       34., 35., 50., 43., 42., 37., 51., 38., 45., 54., 52., 49., 62.,\n",
              "       55., 47., 44., 53., 48., 57., 59., 56., 60., 63., 58., 70., 67.,\n",
              "       64., 69., 65., 68., 66., 81., 79., 75., 72., 74., nan])"
            ]
          },
          "metadata": {},
          "execution_count": 17
        }
      ]
    },
    {
      "cell_type": "code",
      "source": [
        "df['num_medications'].min(), df['num_medications'].max(), df['num_medications'].isnull().sum()"
      ],
      "metadata": {
        "colab": {
          "base_uri": "https://localhost:8080/"
        },
        "id": "lcR4tnddw2DO",
        "outputId": "51841be7-fa2c-492d-897c-bdbb394c8800"
      },
      "execution_count": 18,
      "outputs": [
        {
          "output_type": "execute_result",
          "data": {
            "text/plain": [
              "(1.0, 81.0, 1)"
            ]
          },
          "metadata": {},
          "execution_count": 18
        }
      ]
    },
    {
      "cell_type": "markdown",
      "source": [
        "##number_outpatient: Number of outpatient(service/treatment that does not require hospitalization) visits the patient had in the year preceding the stay (int64)\n",
        "\n",
        "\n",
        "---\n",
        "\n",
        "\n",
        "\n",
        "*   min = 0; max = 42\n",
        "*   No missing values\n",
        "*   Ready to use!\n",
        "\n",
        "\n",
        "\n",
        "\n",
        "\n"
      ],
      "metadata": {
        "id": "2a7e9XL5xvK5"
      }
    },
    {
      "cell_type": "code",
      "source": [
        "df['number_outpatient'].unique()"
      ],
      "metadata": {
        "colab": {
          "base_uri": "https://localhost:8080/"
        },
        "id": "G6nFaoTMyGVx",
        "outputId": "a6aaf119-2593-47dc-a2e9-e5375db9bd01"
      },
      "execution_count": 19,
      "outputs": [
        {
          "output_type": "execute_result",
          "data": {
            "text/plain": [
              "array([ 0.,  2.,  1.,  5.,  7.,  9.,  3.,  8.,  4., 12., 11.,  6., 20.,\n",
              "       15., 10., 13., 14., 16., 21., 35., 17., 29., 36., 18., 19., 27.,\n",
              "       22., 24., 42., 39., 34., 26., 33., 25., 23., 28., 37., nan])"
            ]
          },
          "metadata": {},
          "execution_count": 19
        }
      ]
    },
    {
      "cell_type": "code",
      "source": [
        "df['number_outpatient'].min(), df['number_outpatient'].max(), df['number_outpatient'].isnull().sum()"
      ],
      "metadata": {
        "colab": {
          "base_uri": "https://localhost:8080/"
        },
        "id": "gxHgL3TsyJJs",
        "outputId": "dbb8ade7-82a6-4b99-d7a1-c42279693399"
      },
      "execution_count": 20,
      "outputs": [
        {
          "output_type": "execute_result",
          "data": {
            "text/plain": [
              "(0.0, 42.0, 1)"
            ]
          },
          "metadata": {},
          "execution_count": 20
        }
      ]
    },
    {
      "cell_type": "markdown",
      "source": [
        "##number_emergency: Number of emergency visits of the patient preceding the stay (int64)\n",
        "\n",
        "\n",
        "---\n",
        "\n",
        "\n",
        "\n",
        "*   min = 0; max = 76\n",
        "*   No missing values\n",
        "*   Ready to use!\n",
        "\n",
        "\n"
      ],
      "metadata": {
        "id": "hg9gWc6lyoHY"
      }
    },
    {
      "cell_type": "code",
      "source": [
        "df['number_emergency'].unique()"
      ],
      "metadata": {
        "colab": {
          "base_uri": "https://localhost:8080/"
        },
        "id": "cum6xSm9zTKB",
        "outputId": "dacdfacf-6574-4eb6-bde6-6cc7abf553d9"
      },
      "execution_count": 21,
      "outputs": [
        {
          "output_type": "execute_result",
          "data": {
            "text/plain": [
              "array([ 0.,  1.,  2.,  4.,  3.,  9.,  5.,  7.,  6.,  8., 22., 25., 10.,\n",
              "       13., 42., 16., 11., 28., 15., 14., 18., 12., 21., 20., 19., 46.,\n",
              "       76., 37., 64., 63., 54., nan])"
            ]
          },
          "metadata": {},
          "execution_count": 21
        }
      ]
    },
    {
      "cell_type": "code",
      "source": [
        "df['number_emergency'].min(), df['number_emergency'].max(), df['number_emergency'].isnull().sum()"
      ],
      "metadata": {
        "colab": {
          "base_uri": "https://localhost:8080/"
        },
        "id": "6tAvozc_zj6K",
        "outputId": "63d734dd-89b4-46ac-9286-eb12dba51e80"
      },
      "execution_count": 22,
      "outputs": [
        {
          "output_type": "execute_result",
          "data": {
            "text/plain": [
              "(0.0, 76.0, 1)"
            ]
          },
          "metadata": {},
          "execution_count": 22
        }
      ]
    },
    {
      "cell_type": "markdown",
      "source": [
        "##number_inpatient: Number of inpatient visits (required hospitalization) in the year preceding the stay (int64)\n",
        "\n",
        "\n",
        "---\n",
        "\n",
        "\n",
        "\n",
        "*   min = 0; max = 21\n",
        "*   No missing values\n",
        "*   Ready to use!\n",
        "\n",
        "\n",
        "\n",
        "\n",
        "\n"
      ],
      "metadata": {
        "id": "OylssbxBz3NG"
      }
    },
    {
      "cell_type": "code",
      "source": [
        "df['number_inpatient'].unique()"
      ],
      "metadata": {
        "colab": {
          "base_uri": "https://localhost:8080/"
        },
        "id": "b6NCBrjJ0IRc",
        "outputId": "3e9ba77f-7061-4dbe-d4fe-969339c8dc7f"
      },
      "execution_count": 23,
      "outputs": [
        {
          "output_type": "execute_result",
          "data": {
            "text/plain": [
              "array([ 0.,  1.,  2.,  3.,  6.,  5.,  4.,  7.,  8.,  9., 15., 10., 11.,\n",
              "       14., 12., 13., 17., 16., 21., 18., 19., nan])"
            ]
          },
          "metadata": {},
          "execution_count": 23
        }
      ]
    },
    {
      "cell_type": "code",
      "source": [
        "df['number_inpatient'].min(), df['number_inpatient'].max(), df['number_inpatient'].isnull().sum()"
      ],
      "metadata": {
        "colab": {
          "base_uri": "https://localhost:8080/"
        },
        "id": "gSzrbp__0NYJ",
        "outputId": "a26b3784-50e2-419e-e504-ae422613534a"
      },
      "execution_count": 24,
      "outputs": [
        {
          "output_type": "execute_result",
          "data": {
            "text/plain": [
              "(0.0, 21.0, 1)"
            ]
          },
          "metadata": {},
          "execution_count": 24
        }
      ]
    }
  ]
}